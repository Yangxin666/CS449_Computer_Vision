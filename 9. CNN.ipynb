{
 "cells": [
  {
   "cell_type": "markdown",
   "metadata": {},
   "source": [
    "<img src=\"https://www.rochester.edu/assets/images/ur-logo.svg\">\n",
    "\n",
    "# <center>[CSC 249/449: Machine Vision](https://www.cs.rochester.edu/~cxu22/t/249F20/)</center>\n",
    "\n",
    "## Homework Submission\n",
    "After completed the homework notebook. \n",
    "- Make sure you fill in any place that says `YOUR CODE HERE` or `YOUR ANSWER HERE`, as well as your NetID below.\n",
    "- `Kernel`$\\rightarrow$ `Restart & Run All` (in the menubar).\n",
    "- You can generated zip file using following command:\n",
    "    ```python\n",
    "    NetID=''\n",
    "    make_submission(NetID)\n",
    "    ```\n",
    "- Double-check **generated zip file**, text, math, code, outputs, figures. Re-run if needed.\n",
    "- Sumbit the zip file via blackboard.\n",
    "- 1% deduction of late assignment total score per hour passing the deadline.\n",
    "---------\n"
   ]
  },
  {
   "cell_type": "markdown",
   "metadata": {},
   "source": [
    "### Part 2. Neural Network Continued\n",
    "### Problem 2.1\n",
    "\n",
    "In this problem, we will try to optimize a Convex function with Adam optimizer.  \n",
    "The function is similar to the Problem4 in the last assignment, except we want to find the $x$ so that\n",
    "$$\n",
    "x=\\underset{x\\in [-15,15]}{\\operatorname{argmin}} f(x)\n",
    "$$\n",
    "\n",
    "You will try to use optimizer defined below to find the desired $x$ (Hint: should be aroung 1.3)"
   ]
  },
  {
   "cell_type": "code",
   "execution_count": 53,
   "metadata": {},
   "outputs": [],
   "source": [
    "from cs249 import *"
   ]
  },
  {
   "cell_type": "code",
   "execution_count": 54,
   "metadata": {},
   "outputs": [
    {
     "data": {
      "image/png": "[encoded data removed]",
      "text/plain": [
       "<Figure size 432x288 with 1 Axes>"
      ]
     },
     "metadata": {
      "needs_background": "light"
     },
     "output_type": "display_data"
    }
   ],
   "source": [
    "f = lambda x: 0.08*x.pow(2)+torch.sin(x)\n",
    "x = torch.unsqueeze(torch.linspace(-15, 15, 1000), dim=1) \n",
    "y = f(x)\n",
    "plt.scatter(x,y,marker='^',color = \"orange\")\n",
    "plt.show()"
   ]
  },
  {
   "cell_type": "code",
   "execution_count": 55,
   "metadata": {
    "deletable": false,
    "nbgrader": {
     "cell_type": "code",
     "checksum": "a7bb8e34be6df3b898ae43b4f7ca67a1",
     "grade": true,
     "grade_id": "cell-cf56852a27cab0a4",
     "locked": false,
     "points": 10,
     "schema_version": 3,
     "solution": true,
     "task": false
    }
   },
   "outputs": [
    {
     "name": "stdout",
     "output_type": "stream",
     "text": [
      "6.0\n",
      "4.999439\n",
      "4.043033\n",
      "3.2543273\n",
      "2.6845875\n",
      "2.2821481\n",
      "1.9813094\n",
      "1.729879\n",
      "1.4874113\n",
      "1.2202438\n",
      "0.89912826\n",
      "0.5014047\n",
      "0.017594397\n",
      "-0.54199654\n",
      "-1.1427879\n",
      "-1.7184088\n",
      "-2.1780982\n",
      "-2.456985\n",
      "-2.5454822\n",
      "-2.466588\n",
      "-2.2540665\n",
      "-1.9465417\n",
      "-1.5884278\n",
      "-1.2299304\n",
      "-0.9204235\n",
      "-0.6966402\n",
      "-0.5761188\n",
      "-0.56003976\n",
      "-0.63901806\n",
      "-0.7965578\n",
      "-1.0098538\n",
      "-1.2498763\n",
      "-1.4830668\n",
      "-1.6762016\n",
      "-1.8033227\n",
      "-1.8509893\n",
      "-1.8193941\n",
      "-1.7204161\n",
      "-1.5746495\n",
      "-1.4080614\n",
      "-1.2479426\n",
      "-1.1183165\n",
      "-1.0360779\n",
      "-1.009133\n",
      "-1.0365427\n",
      "-1.1097418\n",
      "-1.2141573\n",
      "-1.331235\n",
      "-1.4411697\n",
      "-1.5262489\n",
      "-1.574049\n",
      "-1.5794922\n",
      "-1.5452576\n",
      "-1.4806997\n",
      "-1.3997036\n",
      "-1.3179008\n",
      "-1.2497303\n",
      "-1.2059435\n",
      "-1.1920546\n",
      "-1.2079037\n",
      "-1.248176\n",
      "-1.3036501\n",
      "-1.3629937\n",
      "-1.4149013\n",
      "-1.4502265\n",
      "-1.4636459\n",
      "-1.4544652\n",
      "-1.4264293\n",
      "-1.3866498\n",
      "-1.3439379\n",
      "-1.3069242\n",
      "-1.2823707\n",
      "-1.2740052\n",
      "-1.2820559\n",
      "-1.3034909\n",
      "-1.3328508\n",
      "-1.3634951\n",
      "-1.3890233\n",
      "-1.404585\n",
      "-1.4077963\n",
      "-1.3990705\n",
      "-1.3813189\n",
      "-1.35913\n",
      "-1.3376476\n",
      "-1.3214179\n",
      "-1.3134644\n",
      "-1.314766\n",
      "-1.3242146\n",
      "-1.3390183\n",
      "-1.3554375\n",
      "-1.3696777\n",
      "-1.3787411\n",
      "-1.3810445\n",
      "-1.3766712\n",
      "-1.3672218\n",
      "-1.3553237\n",
      "-1.3439395\n",
      "-1.3356555\n",
      "-1.3321134\n",
      "-1.3337097\n"
     ]
    }
   ],
   "source": [
    "# Adam (Adaptive Momemt Estimation)\n",
    "x_init = torch.tensor(7.0, requires_grad=True)\n",
    "optimizer = torch.optim.Adam([x_init], lr=1)\n",
    "\n",
    "for i in range(100):\n",
    "    optimizer.zero_grad()\n",
    "    loss=f(x_init)\n",
    "    loss.backward() # calculate gradients\n",
    "    optimizer.step()\n",
    "    print(x_init.detach().numpy())"
   ]
  },
  {
   "cell_type": "code",
   "execution_count": 56,
   "metadata": {},
   "outputs": [
    {
     "data": {
      "image/png": "[encoded data removed]",
      "text/plain": [
       "<Figure size 432x288 with 1 Axes>"
      ]
     },
     "metadata": {
      "needs_background": "light"
     },
     "output_type": "display_data"
    }
   ],
   "source": [
    "plt.scatter(x,y,marker='^',color = \"orange\")\n",
    "plt.scatter(x_init.detach().numpy(),f(x_init).detach().numpy(),marker='^',color = \"red\")\n",
    "plt.show()"
   ]
  },
  {
   "cell_type": "markdown",
   "metadata": {},
   "source": [
    "### Problem 2.2\n",
    "\n",
    "In convolutional neural network, a convolutional layer is actually implemented in **cross correlation**. \n",
    "\n",
    "To keep the consistency with convolutional neural network, implemente forward functions of 2D **corss correlation** layer.     \n",
    "\n",
    "1. The operation should work for 3D image tensor of shape (C,H,W) where C denotes the number of channels.   \n",
    "2. The operation should support **stride and padding**.   \n",
    "3. [useful link](https://cs231n.github.io/convolutional-networks/)"
   ]
  },
  {
   "cell_type": "code",
   "execution_count": 57,
   "metadata": {},
   "outputs": [
    {
     "data": {
      "text/plain": [
       "(4, 4, 3)"
      ]
     },
     "execution_count": 57,
     "metadata": {},
     "output_type": "execute_result"
    }
   ],
   "source": [
    "import numpy\n",
    "img=numpy.array([[[2,3,4],[5,3,1],[2,4,2],[4,3,1]],[[4,5,4],[1,3,1],[7,4,2],[4,9,1]],\n",
    "                 [[8,0,2],[2,4,5],[5,2,6],[7,5,3]],[[5,2,1],[5,4,2],[9,9,1],[3,4,2]]])\n",
    "img.shape"
   ]
  },
  {
   "cell_type": "code",
   "execution_count": 58,
   "metadata": {},
   "outputs": [
    {
     "data": {
      "text/plain": [
       "[7, 4, 2]"
      ]
     },
     "execution_count": 58,
     "metadata": {},
     "output_type": "execute_result"
    }
   ],
   "source": [
    "img[1,2].tolist()"
   ]
  },
  {
   "cell_type": "code",
   "execution_count": 59,
   "metadata": {},
   "outputs": [
    {
     "data": {
      "text/plain": [
       "(3, 4, 4)"
      ]
     },
     "execution_count": 59,
     "metadata": {},
     "output_type": "execute_result"
    }
   ],
   "source": [
    "import numpy\n",
    "img=numpy.array([[[4,5,4,2],[1,3,1,2],[7,4,2,3],[4,9,1,3]],\n",
    "                 [[8,0,2,4],[2,4,5,3],[5,2,6,1],[7,5,3,2]],[[5,2,1,2],[5,4,2,2],[9,9,1,1],[3,4,2,2]]])\n",
    "img.shape"
   ]
  },
  {
   "cell_type": "code",
   "execution_count": 60,
   "metadata": {},
   "outputs": [
    {
     "data": {
      "text/plain": [
       "array([[[0, 0, 0, 0, 0, 0, 0, 0],\n",
       "        [0, 0, 0, 0, 0, 0, 0, 0],\n",
       "        [0, 0, 4, 5, 4, 2, 0, 0],\n",
       "        [0, 0, 1, 3, 1, 2, 0, 0],\n",
       "        [0, 0, 7, 4, 2, 3, 0, 0],\n",
       "        [0, 0, 4, 9, 1, 3, 0, 0],\n",
       "        [0, 0, 0, 0, 0, 0, 0, 0],\n",
       "        [0, 0, 0, 0, 0, 0, 0, 0]],\n",
       "\n",
       "       [[0, 0, 0, 0, 0, 0, 0, 0],\n",
       "        [0, 0, 0, 0, 0, 0, 0, 0],\n",
       "        [0, 0, 8, 0, 2, 4, 0, 0],\n",
       "        [0, 0, 2, 4, 5, 3, 0, 0],\n",
       "        [0, 0, 5, 2, 6, 1, 0, 0],\n",
       "        [0, 0, 7, 5, 3, 2, 0, 0],\n",
       "        [0, 0, 0, 0, 0, 0, 0, 0],\n",
       "        [0, 0, 0, 0, 0, 0, 0, 0]],\n",
       "\n",
       "       [[0, 0, 0, 0, 0, 0, 0, 0],\n",
       "        [0, 0, 0, 0, 0, 0, 0, 0],\n",
       "        [0, 0, 5, 2, 1, 2, 0, 0],\n",
       "        [0, 0, 5, 4, 2, 2, 0, 0],\n",
       "        [0, 0, 9, 9, 1, 1, 0, 0],\n",
       "        [0, 0, 3, 4, 2, 2, 0, 0],\n",
       "        [0, 0, 0, 0, 0, 0, 0, 0],\n",
       "        [0, 0, 0, 0, 0, 0, 0, 0]]])"
      ]
     },
     "execution_count": 60,
     "metadata": {},
     "output_type": "execute_result"
    }
   ],
   "source": [
    "C, H, W=img.shape\n",
    "new_image=[]\n",
    "m, n = (2, 2)\n",
    "#new_image = numpy.zeros(shape = (C, H+2*m, W+2*n))\n",
    "for j in range(C):\n",
    "    new_layer=[]\n",
    "    for i in range(H + 2 * m):\n",
    "        if i <= m-1 or i >= H + m:\n",
    "            new_layer.append([0] * (W + 2 * n))\n",
    "        else:\n",
    "            new_layer.append([0] * n + img[j,i - m].tolist() + [0] * n)\n",
    "    new_image.append(new_layer)\n",
    "img = numpy.array(new_image)\n",
    "img"
   ]
  },
  {
   "cell_type": "code",
   "execution_count": 61,
   "metadata": {},
   "outputs": [
    {
     "data": {
      "text/plain": [
       "array([[[0., 0., 0., 0.],\n",
       "        [0., 0., 0., 0.],\n",
       "        [0., 0., 0., 0.]],\n",
       "\n",
       "       [[0., 0., 0., 0.],\n",
       "        [0., 9., 0., 0.],\n",
       "        [0., 0., 0., 0.]]])"
      ]
     },
     "execution_count": 61,
     "metadata": {},
     "output_type": "execute_result"
    }
   ],
   "source": [
    "a = numpy.zeros(shape=(2, 3, 4))\n",
    "a[1,1,1]=9\n",
    "a\n",
    "    "
   ]
  },
  {
   "cell_type": "code",
   "execution_count": 62,
   "metadata": {},
   "outputs": [
    {
     "data": {
      "text/plain": [
       "1"
      ]
     },
     "execution_count": 62,
     "metadata": {},
     "output_type": "execute_result"
    }
   ],
   "source": [
    "a=[1]\n",
    "a[0]"
   ]
  },
  {
   "cell_type": "code",
   "execution_count": 63,
   "metadata": {
    "deletable": false,
    "nbgrader": {
     "cell_type": "code",
     "checksum": "dd7186c031ec73d1ebdbc77ad43b3a40",
     "grade": true,
     "grade_id": "cell-f7bf854bb0ec733e",
     "locked": false,
     "points": 15,
     "schema_version": 3,
     "solution": true,
     "task": false
    }
   },
   "outputs": [],
   "source": [
    "def Conv2D(img, kernel, bias, stride, padding):\n",
    "    \"\"\"2D convolutional operation.\n",
    "    \n",
    "    Arguments\n",
    "    ---------\n",
    "        img : np.array\n",
    "            A 3D array of shape (C,H,W).\n",
    "        kernel : np.array, just a filter\n",
    "            the weights of the kerel. \n",
    "            A 4D array of shape (out_channels, in_channels, kernel_height, kernel_width).\n",
    "        bias : np.array\n",
    "            the biases of the layer. \n",
    "            A 1D array of shape (out_channels).\n",
    "        strides : tuple\n",
    "            the strides of the convolution operation. \n",
    "            A tuple of shape (height_stride, width_stride).\n",
    "        padding : tuple\n",
    "            the number of zero paddings along the height and width. \n",
    "            A tuple of shape (height_padding, width_padding).\n",
    "\n",
    "        kernel_size = kernel.shape\n",
    "        stride = (stride, stride) if type(stride) == int else stride\n",
    "        padding = (padding, padding) if type(padding) == int else padding\n",
    "\n",
    "\n",
    "    Returns:\n",
    "    --------\n",
    "        The output of the layer. \n",
    "        A 3D array of shape (out_channels, out_heights, out_weights).\n",
    "    \"\"\"\n",
    "    # 1. padding\n",
    "    new_image = []\n",
    "    m, n = padding\n",
    "    C, H, W = img.shape\n",
    "    for j in range(C):\n",
    "        new_layer=[]\n",
    "        for i in range(H + 2 * m):\n",
    "            if i <= m-1 or i >= H + m:\n",
    "                new_layer.append([0] * (W + 2 * n))\n",
    "            else:\n",
    "                new_layer.append([0] * n + img[j,i - m].tolist() + [0] * n)\n",
    "        new_image.append(new_layer)\n",
    "    img = numpy.array(new_image)\n",
    "                \n",
    "    # 2. check dimensions\n",
    "    # check whether kernel's in_channel == img's depth channel\n",
    "    \n",
    "    out_channels, in_channels, kernel_height, kernel_width = kernel.shape\n",
    "    if in_channels != C:\n",
    "        print (\"Error: Number of channels in both image and filter must match.\")\n",
    "        sys.exit()\n",
    "        \n",
    "    # check whether the filter is a square matrix\n",
    "    if kernel_height != kernel_width:\n",
    "        print(\"Error: Filter is not a square matrix\")\n",
    "        sys.exit()\n",
    "        \n",
    "    # check whether the size of the filter is odd\n",
    "    if kernel_height % 2 == 0:\n",
    "        print(\"Error: Filter size must be an odd\")\n",
    "        sys.exit()\n",
    "        \n",
    "    # check the dimension of H_after and W_after\n",
    "    p, q = stride\n",
    "    if (H - kernel_height + 2 * m) % p != 0:\n",
    "        print(\"Error: the new height is not integer\")\n",
    "        \n",
    "    if (W - kernel_width + 2 * n) % q != 0:\n",
    "        print(\"Error: the new width is not integer\")\n",
    "        \n",
    "    # H_after = (H - kernel_height + 2 * m) / p\n",
    "    # W_after = (W - kernel_height + 2 * n) / q\n",
    "    \n",
    "    # 3. conv operation\n",
    "    out_heights = (H - kernel_height + 2 * m) / p\n",
    "    out_widths = (W - kernel_width + 2 * n) / q\n",
    "    out = numpy.zeros(shape = (int(out_channels), int(out_heights), int(out_widths)))\n",
    "    \n",
    "    for k in range(int(out_channels)):\n",
    "        for i in range(int(out_heights)):\n",
    "            for j in range(int(out_widths)):\n",
    "                out[k,i,j] = numpy.sum(img[:,p*i:p*i+kernel_height,q*j:q*j+kernel_width]*kernel[k]) + bias[k]\n",
    "                \n",
    "    return out"
   ]
  },
  {
   "cell_type": "code",
   "execution_count": 64,
   "metadata": {},
   "outputs": [
    {
     "data": {
      "text/plain": [
       "array([[[ 78., 138., 121.],\n",
       "        [191., 267., 193.],\n",
       "        [210., 287., 203.]]])"
      ]
     },
     "execution_count": 64,
     "metadata": {},
     "output_type": "execute_result"
    }
   ],
   "source": [
    "img=numpy.array([[[4,5,4,2],[1,3,1,2],[7,4,2,3],[4,9,1,3]],\n",
    "                 [[8,0,2,4],[2,4,5,3],[5,2,6,1],[7,5,3,2]],[[5,2,1,2],[5,4,2,2],[9,9,1,1],[3,4,2,2]]])\n",
    "kernel=numpy.array([[[[1,2,3],[2,1,2],[3,5,2]],[[3,1,2],[2,1,5],[2,3,1]],[[4,1,4],[3,2,5],[3,2,1]]]])\n",
    "kernel.shape\n",
    "bias=[1]\n",
    "padding=(1,1)\n",
    "stride=(1,1)\n",
    "Conv2D(img, kernel, bias, stride, padding)"
   ]
  },
  {
   "cell_type": "code",
   "execution_count": 56,
   "metadata": {
    "tags": []
   },
   "outputs": [
    {
     "ename": "FileNotFoundError",
     "evalue": "[Errno 2] No such file or directory: '/u/cs249/data/conv_cases.pkl'",
     "output_type": "error",
     "traceback": [
      "\u001b[0;31m---------------------------------------------------------------------------\u001b[0m",
      "\u001b[0;31mFileNotFoundError\u001b[0m                         Traceback (most recent call last)",
      "\u001b[0;32m<ipython-input-56-94c8ae94afda>\u001b[0m in \u001b[0;36m<module>\u001b[0;34m\u001b[0m\n\u001b[0;32m----> 1\u001b[0;31m \u001b[0;32mwith\u001b[0m \u001b[0mopen\u001b[0m\u001b[0;34m(\u001b[0m\u001b[0mdata\u001b[0m\u001b[0;34m/\u001b[0m\u001b[0;34m'conv_cases.pkl'\u001b[0m\u001b[0;34m,\u001b[0m \u001b[0;34m'rb'\u001b[0m\u001b[0;34m)\u001b[0m \u001b[0;32mas\u001b[0m \u001b[0mconv_f\u001b[0m\u001b[0;34m:\u001b[0m\u001b[0;34m\u001b[0m\u001b[0;34m\u001b[0m\u001b[0m\n\u001b[0m\u001b[1;32m      2\u001b[0m     \u001b[0mconv_cases\u001b[0m \u001b[0;34m=\u001b[0m \u001b[0mpickle\u001b[0m\u001b[0;34m.\u001b[0m\u001b[0mload\u001b[0m\u001b[0;34m(\u001b[0m\u001b[0mconv_f\u001b[0m\u001b[0;34m)\u001b[0m\u001b[0;34m\u001b[0m\u001b[0;34m\u001b[0m\u001b[0m\n\u001b[1;32m      3\u001b[0m     \u001b[0;32mfor\u001b[0m \u001b[0mcase\u001b[0m \u001b[0;32min\u001b[0m \u001b[0mconv_cases\u001b[0m\u001b[0;34m:\u001b[0m\u001b[0;34m\u001b[0m\u001b[0;34m\u001b[0m\u001b[0m\n\u001b[1;32m      4\u001b[0m         \u001b[0mweight\u001b[0m \u001b[0;34m=\u001b[0m \u001b[0mcase\u001b[0m\u001b[0;34m[\u001b[0m\u001b[0;34m'weight'\u001b[0m\u001b[0;34m]\u001b[0m\u001b[0;34m\u001b[0m\u001b[0;34m\u001b[0m\u001b[0m\n\u001b[1;32m      5\u001b[0m         \u001b[0mbias\u001b[0m \u001b[0;34m=\u001b[0m \u001b[0mcase\u001b[0m\u001b[0;34m[\u001b[0m\u001b[0;34m'bias'\u001b[0m\u001b[0;34m]\u001b[0m\u001b[0;34m\u001b[0m\u001b[0;34m\u001b[0m\u001b[0m\n",
      "\u001b[0;31mFileNotFoundError\u001b[0m: [Errno 2] No such file or directory: '/u/cs249/data/conv_cases.pkl'"
     ]
    }
   ],
   "source": [
    "with open(data/'conv_cases.pkl', 'rb') as conv_f:\n",
    "    conv_cases = pickle.load(conv_f)\n",
    "    for case in conv_cases:\n",
    "        weight = case['weight']\n",
    "        bias = case['bias']\n",
    "        x = case['x']\n",
    "        out = case['out']\n",
    "        stride = case['stride']\n",
    "        pad = case['pad']\n",
    "        conved= Conv2D(x,weight,bias,stride,pad)\n",
    "        assert np.allclose(conved, conved),'not pass'\n",
    "    print(\"Implemented Correctly\")"
   ]
  },
  {
   "cell_type": "markdown",
   "metadata": {
    "tags": []
   },
   "source": [
    "### Problem 2.3 CNN with CIFAR-10\n",
    "#### a.prepare dataset"
   ]
  },
  {
   "cell_type": "code",
   "execution_count": null,
   "metadata": {
    "tags": []
   },
   "outputs": [],
   "source": [
    "transform = transforms.Compose([transforms.ToTensor()])\n",
    "trainset = torchvision.datasets.CIFAR10(root=data, train=True,download=True, transform=transform)\n",
    "trainloader = torch.utils.data.DataLoader(trainset, batch_size=4,shuffle=True, num_workers=2)\n",
    "testset = torchvision.datasets.CIFAR10(root=data, train=False, download=True, transform=transform)\n",
    "testloader = torch.utils.data.DataLoader(testset, batch_size=4,shuffle=True, num_workers=2)\n",
    "classes = ('plane', 'car', 'bird', 'cat','deer', 'dog', 'frog', 'horse', 'ship', 'truck')\n",
    "dataiter = iter(trainloader)\n",
    "images, labels = dataiter.next()\n",
    "plt.figure(figsize=(16,4))\n",
    "plt.imshow(np.transpose(torchvision.utils.make_grid(images).numpy(), (1, 2, 0)))\n",
    "plt.title('         '.join('%5s' % classes[labels[j]] for j in range(4)),fontsize=40,)\n",
    "plt.show()"
   ]
  },
  {
   "cell_type": "markdown",
   "metadata": {},
   "source": [
    "#### b. define network\n",
    "- Two-layer CNN with maxpooling in between, following with 2 FC layers for classification\n",
    "- Use `LeakyReLU` as your activation function\n",
    "- You need to choose your own parameter for above layer to get a good result\n",
    "- Please visist https://pytorch.org/docs/stable/nn.html for reference"
   ]
  },
  {
   "cell_type": "code",
   "execution_count": 11,
   "metadata": {
    "deletable": false,
    "nbgrader": {
     "cell_type": "code",
     "checksum": "3547e920e67f0ffb4247215e63f766ec",
     "grade": true,
     "grade_id": "cell-6b582ddd2a0f2c93",
     "locked": false,
     "points": 10,
     "schema_version": 3,
     "solution": true,
     "task": false
    }
   },
   "outputs": [],
   "source": [
    "# -> conv2d -> relu -> maxpool2d -> conv2d -> relu -> maxpool2d -> view -> linear -> relu -> linear -> relu -> linear\n",
    "import torch\n",
    "class Net(torch.nn.Module):\n",
    "    def __init__(self):\n",
    "        super(Net, self).__init__()\n",
    "        # 3 input image channel, 6 output channels, 3x3 square convolution\n",
    "        # kernel\n",
    "        self.conv1 = torch.nn.Conv2d(1, 6, 3)\n",
    "        self.conv2 = torch.nn.Conv2d(6, 16, 3)\n",
    "        # an affine operation: y = Wx + b\n",
    "        self.fc1 = torch.nn.Linear(576, 120)  # 6*6 from image dimension\n",
    "        self.fc2 = torch.nn.Linear(120, 84)\n",
    "        self.fc3 = torch.nn.Linear(84, 10)\n",
    "    \n",
    "    def forward(self, x):\n",
    "        # Max pooling over a (2, 2) window\n",
    "        x = torch.nn.functional.max_pool2d(torch.nn.functional.leaky_relu(self.conv1(x)), (2, 2))\n",
    "        # If the size is a square you can only specify a single number\n",
    "        x = torch.nn.functional.max_pool2d(torch.nn.functional.leaky_relu(self.conv2(x)), 2)\n",
    "        x = x.view(-1, self.num_flat_features(x))\n",
    "        x = torch.nn.functional.leaky_relu(self.fc1(x))\n",
    "        x = torch.nn.functional.leaky_relu(self.fc2(x))\n",
    "        x = torch.sigmoid(self.fc3(x))\n",
    "        return x\n",
    "    \n",
    "    def num_flat_features(self, x):\n",
    "        size = x.size()[1:]  # all dimensions except the batch dimension\n",
    "        num_features = 1\n",
    "        for s in size:\n",
    "            num_features *= s\n",
    "        return num_features"
   ]
  },
  {
   "cell_type": "code",
   "execution_count": 12,
   "metadata": {},
   "outputs": [
    {
     "name": "stdout",
     "output_type": "stream",
     "text": [
      "Net(\n",
      "  (conv1): Conv2d(1, 6, kernel_size=(3, 3), stride=(1, 1))\n",
      "  (conv2): Conv2d(6, 16, kernel_size=(3, 3), stride=(1, 1))\n",
      "  (fc1): Linear(in_features=576, out_features=120, bias=True)\n",
      "  (fc2): Linear(in_features=120, out_features=84, bias=True)\n",
      "  (fc3): Linear(in_features=84, out_features=10, bias=True)\n",
      ")\n",
      "tensor([[0.4979, 0.5297, 0.5158, 0.4801, 0.4785, 0.4715, 0.4848, 0.4908, 0.5145,\n",
      "         0.4668]], grad_fn=<SigmoidBackward>)\n"
     ]
    }
   ],
   "source": [
    "net = Net()\n",
    "print(net)\n",
    "input = torch.randn(1, 1, 32, 32)\n",
    "out = net(input)\n",
    "print(out)"
   ]
  },
  {
   "cell_type": "markdown",
   "metadata": {},
   "source": [
    "#### c. define criterion and optimizer\n",
    "\n",
    "1. Define criterion for multi-label classification\n",
    "2. Define optimizer for training net.parameter()\n",
    "3. You need to choose your own parameter for optimizer"
   ]
  },
  {
   "cell_type": "code",
   "execution_count": 7,
   "metadata": {
    "deletable": false,
    "nbgrader": {
     "cell_type": "code",
     "checksum": "8f35a441bec431447d49b6615d9c034c",
     "grade": true,
     "grade_id": "cell-7ec599d185d5ab67",
     "locked": false,
     "points": 5,
     "schema_version": 3,
     "solution": true,
     "task": false
    }
   },
   "outputs": [],
   "source": [
    "net = Net()\n",
    "net = net.cuda()\n",
    "optimizer = torch.optim.Adam(net.parameters(), lr=5e-3)\n",
    "criterion = torch.nn.LogSoftmax()"
   ]
  },
  {
   "cell_type": "markdown",
   "metadata": {},
   "source": [
    "#### d. training\n",
    "The same as before, for training, \n",
    "1. calculate the loss wrt the ground-truth \n",
    "2. backdrop the loss to optimize the network.\n",
    "3. compute accuracy at the end of **each epoch**\n",
    "\n",
    "Plot the loss for each epoch which is defined as the average of all sample's loss within one epoch  \n",
    "\n",
    "Hint:use below snippet to put data on GPU\n",
    "\n",
    ">```python\n",
    ">inputs = inputs.cuda()\n",
    ">labels = labels.cuda()\n",
    ">```"
   ]
  },
  {
   "cell_type": "code",
   "execution_count": 8,
   "metadata": {
    "deletable": false,
    "nbgrader": {
     "cell_type": "code",
     "checksum": "1d948aabf031d2ea317106a34f9a4240",
     "grade": true,
     "grade_id": "cell-a324bf9cee55ad4c",
     "locked": false,
     "points": 10,
     "schema_version": 3,
     "solution": true,
     "task": false
    },
    "tags": []
   },
   "outputs": [
    {
     "ename": "NameError",
     "evalue": "name 'images' is not defined",
     "output_type": "error",
     "traceback": [
      "\u001b[0;31m---------------------------------------------------------------------------\u001b[0m",
      "\u001b[0;31mNameError\u001b[0m                                 Traceback (most recent call last)",
      "\u001b[0;32m<ipython-input-8-c807d8fc29e4>\u001b[0m in \u001b[0;36m<module>\u001b[0;34m\u001b[0m\n\u001b[1;32m      2\u001b[0m     \u001b[0moptimizer\u001b[0m\u001b[0;34m.\u001b[0m\u001b[0mzero_grad\u001b[0m\u001b[0;34m(\u001b[0m\u001b[0;34m)\u001b[0m\u001b[0;34m\u001b[0m\u001b[0;34m\u001b[0m\u001b[0m\n\u001b[1;32m      3\u001b[0m     \u001b[0;31m# Forward pass\u001b[0m\u001b[0;34m\u001b[0m\u001b[0;34m\u001b[0m\u001b[0;34m\u001b[0m\u001b[0m\n\u001b[0;32m----> 4\u001b[0;31m     \u001b[0my_pred\u001b[0m \u001b[0;34m=\u001b[0m \u001b[0mnet\u001b[0m\u001b[0;34m(\u001b[0m\u001b[0mimages\u001b[0m\u001b[0;34m)\u001b[0m\u001b[0;34m\u001b[0m\u001b[0;34m\u001b[0m\u001b[0m\n\u001b[0m\u001b[1;32m      5\u001b[0m     \u001b[0;31m# Compute loss\u001b[0m\u001b[0;34m\u001b[0m\u001b[0;34m\u001b[0m\u001b[0;34m\u001b[0m\u001b[0m\n\u001b[1;32m      6\u001b[0m     \u001b[0mloss\u001b[0m \u001b[0;34m=\u001b[0m \u001b[0mcriterion\u001b[0m\u001b[0;34m(\u001b[0m\u001b[0my_pred\u001b[0m\u001b[0;34m,\u001b[0m \u001b[0mlabels\u001b[0m\u001b[0;34m)\u001b[0m\u001b[0;34m\u001b[0m\u001b[0;34m\u001b[0m\u001b[0m\n",
      "\u001b[0;31mNameError\u001b[0m: name 'images' is not defined"
     ]
    }
   ],
   "source": [
    "for epoch in range(10):  # loop over the dataset multiple times\n",
    "    optimizer.zero_grad() \n",
    "    # Forward pass\n",
    "    y_pred = net(images)\n",
    "    # Compute loss\n",
    "    loss = criterion(y_pred, labels)\n",
    "    # Print loss in each iteration\n",
    "    print('Epoch {}: train loss: {}'.format(i, loss.item()))\n",
    "    # Backward pass\n",
    "    loss.backward()\n",
    "    optimizer.step()"
   ]
  }
 ],
 "metadata": {
  "kernelspec": {
   "display_name": "Python 3",
   "language": "python",
   "name": "python3"
  },
  "language_info": {
   "codemirror_mode": {
    "name": "ipython",
    "version": 3
   },
   "file_extension": ".py",
   "mimetype": "text/x-python",
   "name": "python",
   "nbconvert_exporter": "python",
   "pygments_lexer": "ipython3",
   "version": "3.8.3"
  }
 },
 "nbformat": 4,
 "nbformat_minor": 2
}
