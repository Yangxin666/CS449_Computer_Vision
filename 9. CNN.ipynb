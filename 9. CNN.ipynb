{
 "cells": [
  {
   "cell_type": "markdown",
   "metadata": {},
   "source": [
    "<img src=\"https://www.rochester.edu/assets/images/ur-logo.svg\">\n",
    "\n",
    "# <center>[CSC 249/449: Machine Vision](https://www.cs.rochester.edu/~cxu22/t/249F20/)</center>\n",
    "\n",
    "## Homework Submission\n",
    "After completed the homework notebook. \n",
    "- Make sure you fill in any place that says `YOUR CODE HERE` or `YOUR ANSWER HERE`, as well as your NetID below.\n",
    "- `Kernel`$\\rightarrow$ `Restart & Run All` (in the menubar).\n",
    "- You can generated zip file using following command:\n",
    "    ```python\n",
    "    NetID=''\n",
    "    make_submission(NetID)\n",
    "    ```\n",
    "- Double-check **generated zip file**, text, math, code, outputs, figures. Re-run if needed.\n",
    "- Sumbit the zip file via blackboard.\n",
    "- 1% deduction of late assignment total score per hour passing the deadline.\n",
    "---------\n"
   ]
  },
  {
   "cell_type": "markdown",
   "metadata": {},
   "source": [
    "### Part 2. Neural Network Continued\n",
    "### Problem 2.1\n",
    "\n",
    "In this problem, we will try to optimize a Convex function with Adam optimizer.  \n",
    "The function is similar to the Problem4 in the last assignment, except we want to find the $x$ so that\n",
    "$$\n",
    "x=\\underset{x\\in [-15,15]}{\\operatorname{argmin}} f(x)\n",
    "$$\n",
    "\n",
    "You will try to use optimizer defined below to find the desired $x$ (Hint: should be aroung 1.3)"
   ]
  },
  {
   "cell_type": "code",
   "execution_count": null,
   "metadata": {},
   "outputs": [],
   "source": [
    "from cs249 import *"
   ]
  },
  {
   "cell_type": "code",
   "execution_count": null,
   "metadata": {},
   "outputs": [],
   "source": [
    "f = lambda x: 0.08*x.pow(2)+torch.sin(x)\n",
    "x = torch.unsqueeze(torch.linspace(-15, 15, 1000), dim=1) \n",
    "y = f(x)\n",
    "plt.scatter(x,y,marker='^',color = \"orange\")\n",
    "plt.show()"
   ]
  },
  {
   "cell_type": "code",
   "execution_count": null,
   "metadata": {
    "deletable": false,
    "nbgrader": {
     "cell_type": "code",
     "checksum": "a7bb8e34be6df3b898ae43b4f7ca67a1",
     "grade": true,
     "grade_id": "cell-cf56852a27cab0a4",
     "locked": false,
     "points": 10,
     "schema_version": 3,
     "solution": true,
     "task": false
    }
   },
   "outputs": [],
   "source": [
    "x_init = torch.tensor(7.0, requires_grad=True)\n",
    "optimizer = torch.optim.Adam([x_init], lr=1)\n",
    "# YOUR CODE HERE\n",
    "raise NotImplementedError()"
   ]
  },
  {
   "cell_type": "code",
   "execution_count": null,
   "metadata": {},
   "outputs": [],
   "source": [
    "plt.scatter(x,y,marker='^',color = \"orange\")\n",
    "plt.scatter(x_init.detach().numpy(),f(x_init).detach().numpy(),marker='^',color = \"red\")\n",
    "plt.show()"
   ]
  },
  {
   "cell_type": "markdown",
   "metadata": {},
   "source": [
    "### Problem 2.2\n",
    "\n",
    "In convolutional neural network, a convolutional layer is actually implemented in **corss correlation**. \n",
    "\n",
    "To keep the consistency with convolutional neural network, implemente forward functions of 2D **corss correlation** layer.     \n",
    "\n",
    "1. The operation should work for 3D image tensor of shape (C,H,W) where C denotes the number of channels.   \n",
    "2. The operation should support **stride and padding**.   \n",
    "3. [useful link](https://cs231n.github.io/convolutional-networks/)"
   ]
  },
  {
   "cell_type": "code",
   "execution_count": null,
   "metadata": {
    "deletable": false,
    "nbgrader": {
     "cell_type": "code",
     "checksum": "dd7186c031ec73d1ebdbc77ad43b3a40",
     "grade": true,
     "grade_id": "cell-f7bf854bb0ec733e",
     "locked": false,
     "points": 15,
     "schema_version": 3,
     "solution": true,
     "task": false
    }
   },
   "outputs": [],
   "source": [
    "def Conv2D(img, kernel, bias, stride, padding):\n",
    "    \"\"\"2D convolutional operation.\n",
    "    \n",
    "    Arguments\n",
    "    ---------\n",
    "        img : np.array\n",
    "            A 3D array of shape (C,H,W).\n",
    "        kernel : np.array\n",
    "            the weights of the kerel. \n",
    "            A 4D array of shape (out_channels, in_channels, kernel_height, kernel_width).\n",
    "        bias : np.array\n",
    "            the biases of the layer. \n",
    "            A 1D array of shape (out_channels).\n",
    "        strides : tuple\n",
    "            the strides of the convolution operation. \n",
    "            A tuple of shape (height_stride, width_stride).\n",
    "        padding : tuple\n",
    "            the number of zero paddings along the height and width. \n",
    "            A tuple of shape (height_padding, width_padding).\n",
    "\n",
    "        kernel_size = kernel.shape\n",
    "        stride = (stride, stride) if type(stride) == int else stride\n",
    "        padding = (padding, padding) if type(padding) == int else padding\n",
    "\n",
    "\n",
    "    Returns:\n",
    "    --------\n",
    "        The output of the layer. \n",
    "        A 3D array of shape (out_channels, out_heights, out_weights).\n",
    "    \"\"\"\n",
    "    # 1. padding\n",
    "    # YOUR CODE HERE\n",
    "    raise NotImplementedError()\n",
    "    \n",
    "    # 2. check dimensions\n",
    "    # YOUR CODE HERE\n",
    "    raise NotImplementedError()\n",
    "    \n",
    "    # 3. conv operation\n",
    "    # YOUR CODE HERE\n",
    "    raise NotImplementedError()"
   ]
  },
  {
   "cell_type": "code",
   "execution_count": null,
   "metadata": {
    "tags": []
   },
   "outputs": [],
   "source": [
    "with open(data/'conv_cases.pkl', 'rb') as conv_f:\n",
    "    conv_cases = pickle.load(conv_f)\n",
    "    for case in conv_cases:\n",
    "        weight = case['weight']\n",
    "        bias = case['bias']\n",
    "        x = case['x']\n",
    "        out = case['out']\n",
    "        stride = case['stride']\n",
    "        pad = case['pad']\n",
    "        conved= Conv2D(x,weight,bias,stride,pad)\n",
    "        assert np.allclose(conved, conved),'not pass'\n",
    "    print(\"Implemented Correctly\")"
   ]
  },
  {
   "cell_type": "markdown",
   "metadata": {
    "tags": []
   },
   "source": [
    "### Problem 2.3 CNN with CIFAR-10\n",
    "#### a.prepare dataset"
   ]
  },
  {
   "cell_type": "code",
   "execution_count": null,
   "metadata": {
    "tags": []
   },
   "outputs": [],
   "source": [
    "transform = transforms.Compose([transforms.ToTensor()])\n",
    "trainset = torchvision.datasets.CIFAR10(root=data, train=True,download=True, transform=transform)\n",
    "trainloader = torch.utils.data.DataLoader(trainset, batch_size=4,shuffle=True, num_workers=2)\n",
    "testset = torchvision.datasets.CIFAR10(root=data, train=False, download=True, transform=transform)\n",
    "testloader = torch.utils.data.DataLoader(testset, batch_size=4,shuffle=True, num_workers=2)\n",
    "classes = ('plane', 'car', 'bird', 'cat','deer', 'dog', 'frog', 'horse', 'ship', 'truck')\n",
    "dataiter = iter(trainloader)\n",
    "images, labels = dataiter.next()\n",
    "plt.figure(figsize=(16,4))\n",
    "plt.imshow(np.transpose(torchvision.utils.make_grid(images).numpy(), (1, 2, 0)))\n",
    "plt.title('         '.join('%5s' % classes[labels[j]] for j in range(4)),fontsize=40,)\n",
    "plt.show()"
   ]
  },
  {
   "cell_type": "markdown",
   "metadata": {},
   "source": [
    "#### b. define network\n",
    "- Two-layer CNN with maxpooling in between, following with 2 FC layers for classification\n",
    "- Use `LeakyReLU` as your activation function\n",
    "- You need to choose your own parameter for above layer to get a good result\n",
    "- Please visist https://pytorch.org/docs/stable/nn.html for reference"
   ]
  },
  {
   "cell_type": "code",
   "execution_count": null,
   "metadata": {
    "deletable": false,
    "nbgrader": {
     "cell_type": "code",
     "checksum": "3547e920e67f0ffb4247215e63f766ec",
     "grade": true,
     "grade_id": "cell-6b582ddd2a0f2c93",
     "locked": false,
     "points": 10,
     "schema_version": 3,
     "solution": true,
     "task": false
    }
   },
   "outputs": [],
   "source": [
    "class Net(nn.Module):\n",
    "    def __init__(self):\n",
    "        super(Net, self).__init__()\n",
    "# YOUR CODE HERE\n",
    "raise NotImplementedError()"
   ]
  },
  {
   "cell_type": "markdown",
   "metadata": {},
   "source": [
    "#### c. define criterion and optimizer\n",
    "\n",
    "1. Define criterion for multi-label classification\n",
    "2. Define optimizer for training net.parameter()\n",
    "3. You need to choose your own parameter for optimizer"
   ]
  },
  {
   "cell_type": "code",
   "execution_count": null,
   "metadata": {
    "deletable": false,
    "nbgrader": {
     "cell_type": "code",
     "checksum": "8f35a441bec431447d49b6615d9c034c",
     "grade": true,
     "grade_id": "cell-7ec599d185d5ab67",
     "locked": false,
     "points": 5,
     "schema_version": 3,
     "solution": true,
     "task": false
    }
   },
   "outputs": [],
   "source": [
    "net = Net()\n",
    "net = net.cuda()\n",
    "# YOUR CODE HERE\n",
    "raise NotImplementedError()"
   ]
  },
  {
   "cell_type": "markdown",
   "metadata": {},
   "source": [
    "#### d. training\n",
    "The same as before, for training, \n",
    "1. calculate the loss wrt the ground-truth \n",
    "2. backdrop the loss to optimize the network.\n",
    "3. compute accuracy at the end of **each epoch**\n",
    "\n",
    "Plot the loss for each epoch which is defined as the average of all sample's loss within one epoch  \n",
    "\n",
    "Hint:use below snippet to put data on GPU\n",
    "\n",
    ">```python\n",
    ">inputs = inputs.cuda()\n",
    ">labels = labels.cuda()\n",
    ">```"
   ]
  },
  {
   "cell_type": "code",
   "execution_count": null,
   "metadata": {
    "deletable": false,
    "nbgrader": {
     "cell_type": "code",
     "checksum": "1d948aabf031d2ea317106a34f9a4240",
     "grade": true,
     "grade_id": "cell-a324bf9cee55ad4c",
     "locked": false,
     "points": 10,
     "schema_version": 3,
     "solution": true,
     "task": false
    },
    "tags": []
   },
   "outputs": [],
   "source": [
    "for epoch in range(10):  # loop over the dataset multiple times\n",
    "# YOUR CODE HERE\n",
    "raise NotImplementedError()"
   ]
  }
 ],
 "metadata": {
  "kernelspec": {
   "display_name": "Python 3",
   "language": "python",
   "name": "python3"
  },
  "language_info": {
   "codemirror_mode": {
    "name": "ipython",
    "version": 3
   },
   "file_extension": ".py",
   "mimetype": "text/x-python",
   "name": "python",
   "nbconvert_exporter": "python",
   "pygments_lexer": "ipython3",
   "version": "3.8.5"
  }
 },
 "nbformat": 4,
 "nbformat_minor": 2
}
