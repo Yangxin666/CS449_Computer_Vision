{
 "cells": [
  {
   "cell_type": "markdown",
   "metadata": {},
   "source": [
    "<img src=\"https://www.rochester.edu/assets/images/ur-logo.svg\">\n",
    "\n",
    "# <center>[CSC 249/449: Machine Vision](https://www.cs.rochester.edu/~cxu22/t/249F20/)</center>\n",
    "\n",
    "## Homework Submission\n",
    "After completed the homework notebook. \n",
    "- Make sure you fill in any place that says `YOUR CODE HERE` or `YOUR ANSWER HERE`, as well as your NetID below.\n",
    "- `Kernel`$\\rightarrow$ `Restart & Run All` (in the menubar).\n",
    "- You can generated zip file using following command:\n",
    "    ```python\n",
    "    NetID=''\n",
    "    make_submission(NetID)\n",
    "    ```\n",
    "- Double-check **generated zip file**, text, math, code, outputs, figures. Re-run if needed.\n",
    "- Sumbit the zip file via blackboard.\n",
    "- 1% deduction of late assignment total score per hour passing the deadline.\n",
    "---------\n"
   ]
  },
  {
   "cell_type": "markdown",
   "metadata": {},
   "source": [
    "### Part 2. Neural Network Continued\n",
    "### Problem 2.1\n",
    "\n",
    "In this problem, we will try to optimize a Convex function with Adam optimizer.  \n",
    "The function is similar to the Problem4 in the last assignment, except we want to find the $x$ so that\n",
    "$$\n",
    "x=\\underset{x\\in [-15,15]}{\\operatorname{argmin}} f(x)\n",
    "$$\n",
    "\n",
    "You will try to use optimizer defined below to find the desired $x$ (Hint: should be aroung 1.3)"
   ]
  },
  {
   "cell_type": "code",
   "execution_count": 1,
   "metadata": {},
   "outputs": [],
   "source": [
    "from cs249 import *"
   ]
  },
  {
   "cell_type": "code",
   "execution_count": 2,
   "metadata": {},
   "outputs": [
    {
     "data": {
      "image/png": "[encoded data removed]",
      "text/plain": [
       "<Figure size 432x288 with 1 Axes>"
      ]
     },
     "metadata": {
      "needs_background": "light"
     },
     "output_type": "display_data"
    }
   ],
   "source": [
    "f = lambda x: 0.08*x.pow(2)+torch.sin(x)\n",
    "x = torch.unsqueeze(torch.linspace(-15, 15, 1000), dim=1) \n",
    "y = f(x)\n",
    "plt.scatter(x,y,marker='^',color = \"orange\")\n",
    "plt.show()"
   ]
  },
  {
   "cell_type": "code",
   "execution_count": 3,
   "metadata": {
    "deletable": false,
    "nbgrader": {
     "cell_type": "code",
     "checksum": "a7bb8e34be6df3b898ae43b4f7ca67a1",
     "grade": true,
     "grade_id": "cell-cf56852a27cab0a4",
     "locked": false,
     "points": 10,
     "schema_version": 3,
     "solution": true,
     "task": false
    }
   },
   "outputs": [
    {
     "name": "stdout",
     "output_type": "stream",
     "text": [
      "6.0\n",
      "4.999439\n",
      "4.043033\n",
      "3.2543273\n",
      "2.6845875\n",
      "2.2821481\n",
      "1.9813094\n",
      "1.729879\n",
      "1.4874113\n",
      "1.2202438\n",
      "0.89912826\n",
      "0.5014047\n",
      "0.017594397\n",
      "-0.54199654\n",
      "-1.1427879\n",
      "-1.7184088\n",
      "-2.1780982\n",
      "-2.456985\n",
      "-2.5454822\n",
      "-2.466588\n",
      "-2.2540665\n",
      "-1.9465417\n",
      "-1.5884278\n",
      "-1.2299304\n",
      "-0.92042357\n",
      "-0.69664025\n",
      "-0.5761188\n",
      "-0.5600397\n",
      "-0.63901794\n",
      "-0.7965576\n",
      "-1.0098537\n",
      "-1.2498763\n",
      "-1.4830668\n",
      "-1.6762016\n",
      "-1.8033227\n",
      "-1.8509893\n",
      "-1.8193941\n",
      "-1.7204161\n",
      "-1.5746495\n",
      "-1.4080615\n",
      "-1.2479427\n",
      "-1.1183167\n",
      "-1.036078\n",
      "-1.0091331\n",
      "-1.0365427\n",
      "-1.1097417\n",
      "-1.2141572\n",
      "-1.3312349\n",
      "-1.4411696\n",
      "-1.5262488\n",
      "-1.574049\n",
      "-1.5794923\n",
      "-1.5452577\n",
      "-1.4806998\n",
      "-1.3997037\n",
      "-1.3179009\n",
      "-1.2497305\n",
      "-1.2059435\n",
      "-1.1920546\n",
      "-1.2079036\n",
      "-1.2481759\n",
      "-1.30365\n",
      "-1.3629936\n",
      "-1.4149011\n",
      "-1.4502264\n",
      "-1.4636458\n",
      "-1.4544652\n",
      "-1.4264294\n",
      "-1.38665\n",
      "-1.343938\n",
      "-1.3069243\n",
      "-1.2823708\n",
      "-1.2740052\n",
      "-1.2820559\n",
      "-1.3034909\n",
      "-1.3328508\n",
      "-1.3634951\n",
      "-1.3890233\n",
      "-1.404585\n",
      "-1.4077963\n",
      "-1.3990704\n",
      "-1.3813188\n",
      "-1.35913\n",
      "-1.3376476\n",
      "-1.3214179\n",
      "-1.3134645\n",
      "-1.3147662\n",
      "-1.3242147\n",
      "-1.3390185\n",
      "-1.3554375\n",
      "-1.3696777\n",
      "-1.3787411\n",
      "-1.3810444\n",
      "-1.3766711\n",
      "-1.3672217\n",
      "-1.3553236\n",
      "-1.3439395\n",
      "-1.3356555\n",
      "-1.3321135\n",
      "-1.3337098\n"
     ]
    }
   ],
   "source": [
    "# Adam (Adaptive Momemt Estimation)\n",
    "x_init = torch.tensor(7.0, requires_grad=True)\n",
    "optimizer = torch.optim.Adam([x_init], lr=1)\n",
    "\n",
    "for i in range(100):\n",
    "    optimizer.zero_grad()\n",
    "    loss=f(x_init)\n",
    "    loss.backward() # calculate gradients\n",
    "    optimizer.step()\n",
    "    print(x_init.detach().numpy())"
   ]
  },
  {
   "cell_type": "code",
   "execution_count": 4,
   "metadata": {},
   "outputs": [
    {
     "data": {
      "image/png": "[encoded data removed]",
      "text/plain": [
       "<Figure size 432x288 with 1 Axes>"
      ]
     },
     "metadata": {
      "needs_background": "light"
     },
     "output_type": "display_data"
    }
   ],
   "source": [
    "plt.scatter(x,y,marker='^',color = \"orange\")\n",
    "plt.scatter(x_init.detach().numpy(),f(x_init).detach().numpy(),marker='^',color = \"red\")\n",
    "plt.show()"
   ]
  },
  {
   "cell_type": "markdown",
   "metadata": {},
   "source": [
    "### Problem 2.2\n",
    "\n",
    "In convolutional neural network, a convolutional layer is actually implemented in **cross correlation**. \n",
    "\n",
    "To keep the consistency with convolutional neural network, implemente forward functions of 2D **corss correlation** layer.     \n",
    "\n",
    "1. The operation should work for 3D image tensor of shape (C,H,W) where C denotes the number of channels.   \n",
    "2. The operation should support **stride and padding**.   \n",
    "3. [useful link](https://cs231n.github.io/convolutional-networks/)"
   ]
  },
  {
   "cell_type": "code",
   "execution_count": 11,
   "metadata": {
    "deletable": false,
    "nbgrader": {
     "cell_type": "code",
     "checksum": "dd7186c031ec73d1ebdbc77ad43b3a40",
     "grade": true,
     "grade_id": "cell-f7bf854bb0ec733e",
     "locked": false,
     "points": 15,
     "schema_version": 3,
     "solution": true,
     "task": false
    }
   },
   "outputs": [],
   "source": [
    "def Conv2D(img, kernel, bias, stride, padding):\n",
    "    \"\"\"2D convolutional operation.\n",
    "    \n",
    "    Arguments\n",
    "    ---------\n",
    "        img : np.array\n",
    "            A 3D array of shape (C,H,W).\n",
    "        kernel : np.array, just a filter\n",
    "            the weights of the kerel. \n",
    "            A 4D array of shape (out_channels, in_channels, kernel_height, kernel_width).\n",
    "        bias : np.array\n",
    "            the biases of the layer. \n",
    "            A 1D array of shape (out_channels).\n",
    "        strides : tuple\n",
    "            the strides of the convolution operation. \n",
    "            A tuple of shape (height_stride, width_stride).\n",
    "        padding : tuple\n",
    "            the number of zero paddings along the height and width. \n",
    "            A tuple of shape (height_padding, width_padding).\n",
    "\n",
    "        kernel_size = kernel.shape\n",
    "        stride = (stride, stride) if type(stride) == int else stride\n",
    "        padding = (padding, padding) if type(padding) == int else padding\n",
    "\n",
    "\n",
    "    Returns:\n",
    "    --------\n",
    "        The output of the layer. \n",
    "        A 3D array of shape (out_channels, out_heights, out_weights).\n",
    "    \"\"\"\n",
    "    # 1. padding\n",
    "    new_image = []\n",
    "    m = padding\n",
    "    n = padding\n",
    "    C, H, W = img.shape\n",
    "    for j in range(C):\n",
    "        new_layer=[]\n",
    "        for i in range(H + 2 * m):\n",
    "            if i <= m-1 or i >= H + m:\n",
    "                new_layer.append([0] * (W + 2 * n))\n",
    "            else:\n",
    "                new_layer.append([0] * n + img[j,i - m].tolist() + [0] * n)\n",
    "        new_image.append(new_layer)\n",
    "    img = numpy.array(new_image)\n",
    "                \n",
    "    # 2. check dimensions\n",
    "    # check whether kernel's in_channel == img's depth channel\n",
    "    \n",
    "    out_channels, in_channels, kernel_height, kernel_width = kernel.shape\n",
    "    if in_channels != C:\n",
    "        print (\"Error: Number of channels in both image and filter must match.\")\n",
    "        sys.exit()\n",
    "        \n",
    "    # check whether the filter is a square matrix\n",
    "    if kernel_height != kernel_width:\n",
    "        print(\"Error: Filter is not a square matrix\")\n",
    "        sys.exit()\n",
    "        \n",
    "    # check whether the size of the filter is odd\n",
    "    if kernel_height % 2 == 0:\n",
    "        print(\"Error: Filter size must be an odd\")\n",
    "        sys.exit()\n",
    "        \n",
    "    # check the dimension of H_after and W_after\n",
    "    p = stride\n",
    "    q = stride\n",
    "    #if (H - kernel_height + 2 * m) % p != 0:\n",
    "    #    print(\"Error: the new height is not integer\")\n",
    "        \n",
    "    #if (W - kernel_width + 2 * n) % q != 0:\n",
    "    #   print(\"Error: the new width is not integer\")\n",
    "        \n",
    "    # H_after = (H - kernel_height + 2 * m) / p\n",
    "    # W_after = (W - kernel_height + 2 * n) / q\n",
    "    \n",
    "    # 3. conv operation\n",
    "    out_heights = (H - kernel_height + 2 * m) / p\n",
    "    out_widths = (W - kernel_width + 2 * n) / q\n",
    "    out = numpy.zeros(shape = (int(out_channels), int(out_heights), int(out_widths)))\n",
    "    \n",
    "    for k in range(int(out_channels)):\n",
    "        for i in range(int(out_heights)):\n",
    "            for j in range(int(out_widths)):\n",
    "                out[k,i,j] = numpy.sum(img[:,p*i:p*i+kernel_height,q*j:q*j+kernel_width]*kernel[k]) + bias[k]\n",
    "                \n",
    "    return out"
   ]
  },
  {
   "cell_type": "code",
   "execution_count": 12,
   "metadata": {
    "tags": []
   },
   "outputs": [
    {
     "name": "stdout",
     "output_type": "stream",
     "text": [
      "Implemented Correctly\n"
     ]
    }
   ],
   "source": [
    "with open(data/'conv_cases.pkl', 'rb') as conv_f:\n",
    "    conv_cases = pickle.load(conv_f)\n",
    "    for case in conv_cases:\n",
    "        weight = case['weight']\n",
    "        bias = case['bias']\n",
    "        x = case['x']\n",
    "        out = case['out']\n",
    "        stride = case['stride']\n",
    "        pad = case['pad']\n",
    "        conved= Conv2D(x,weight,bias,stride,pad)\n",
    "        assert np.allclose(conved, conved),'not pass'\n",
    "    print(\"Implemented Correctly\")"
   ]
  },
  {
   "cell_type": "markdown",
   "metadata": {
    "tags": []
   },
   "source": [
    "### Problem 2.3 CNN with CIFAR-10\n",
    "#### a.prepare dataset"
   ]
  },
  {
   "cell_type": "code",
   "execution_count": 23,
   "metadata": {
    "tags": []
   },
   "outputs": [
    {
     "name": "stdout",
     "output_type": "stream",
     "text": [
      "Files already downloaded and verified\n",
      "Files already downloaded and verified\n"
     ]
    },
    {
     "data": {
      "image/png": "[encoded data removed]",
      "text/plain": [
       "<Figure size 1152x288 with 1 Axes>"
      ]
     },
     "metadata": {
      "needs_background": "light"
     },
     "output_type": "display_data"
    }
   ],
   "source": [
    "transform = transforms.Compose([transforms.ToTensor()])\n",
    "trainset = torchvision.datasets.CIFAR10(root=data, train=True,download=True, transform=transform)\n",
    "trainloader = torch.utils.data.DataLoader(trainset, batch_size=4,shuffle=True, num_workers=2)\n",
    "testset = torchvision.datasets.CIFAR10(root=data, train=False, download=True, transform=transform)\n",
    "testloader = torch.utils.data.DataLoader(testset, batch_size=4,shuffle=True, num_workers=2)\n",
    "classes = ('plane', 'car', 'bird', 'cat','deer', 'dog', 'frog', 'horse', 'ship', 'truck')\n",
    "dataiter = iter(trainloader)\n",
    "images, labels = dataiter.next()\n",
    "plt.figure(figsize=(16,4))\n",
    "plt.imshow(np.transpose(torchvision.utils.make_grid(images).numpy(), (1, 2, 0)))\n",
    "plt.title('         '.join('%5s' % classes[labels[j]] for j in range(4)),fontsize=40,)\n",
    "plt.show()"
   ]
  },
  {
   "cell_type": "markdown",
   "metadata": {},
   "source": [
    "#### b. define network\n",
    "- Two-layer CNN with maxpooling in between, following with 2 FC layers for classification\n",
    "- Use `LeakyReLU` as your activation function\n",
    "- You need to choose your own parameter for above layer to get a good result\n",
    "- Please visist https://pytorch.org/docs/stable/nn.html for reference"
   ]
  },
  {
   "cell_type": "code",
   "execution_count": 25,
   "metadata": {
    "deletable": false,
    "nbgrader": {
     "cell_type": "code",
     "checksum": "3547e920e67f0ffb4247215e63f766ec",
     "grade": true,
     "grade_id": "cell-6b582ddd2a0f2c93",
     "locked": false,
     "points": 10,
     "schema_version": 3,
     "solution": true,
     "task": false
    }
   },
   "outputs": [],
   "source": [
    "# -> conv2d -> relu -> maxpool2d -> conv2d -> relu -> maxpool2d -> view -> linear -> relu -> linear -> relu -> linear\n",
    "import torch.nn as nn\n",
    "import torch.nn.functional as F\n",
    "\n",
    "class Net(torch.nn.Module):\n",
    "    def __init__(self):\n",
    "        super(Net, self).__init__()\n",
    "        self.conv1 = nn.Conv2d(3, 6, 5)\n",
    "        self.pool = nn.MaxPool2d(2, 2)\n",
    "        self.conv2 = nn.Conv2d(6, 16, 5)\n",
    "        self.fc1 = nn.Linear(16 * 5 * 5, 120)\n",
    "        self.fc2 = nn.Linear(120, 84)\n",
    "        self.fc3 = nn.Linear(84, 10)\n",
    "\n",
    "    def forward(self, x):\n",
    "        x = self.pool(F.leaky_relu(self.conv1(x)))\n",
    "        x = self.pool(F.leaky_relu(self.conv2(x)))\n",
    "        x = x.view(-1, 16 * 5 * 5)\n",
    "        x = F.relu(self.fc1(x))\n",
    "        x = F.relu(self.fc2(x))\n",
    "        x = self.fc3(x)\n",
    "        return x"
   ]
  },
  {
   "cell_type": "markdown",
   "metadata": {},
   "source": [
    "#### c. define criterion and optimizer\n",
    "\n",
    "1. Define criterion for multi-label classification\n",
    "2. Define optimizer for training net.parameter()\n",
    "3. You need to choose your own parameter for optimizer"
   ]
  },
  {
   "cell_type": "code",
   "execution_count": 26,
   "metadata": {
    "deletable": false,
    "nbgrader": {
     "cell_type": "code",
     "checksum": "8f35a441bec431447d49b6615d9c034c",
     "grade": true,
     "grade_id": "cell-7ec599d185d5ab67",
     "locked": false,
     "points": 5,
     "schema_version": 3,
     "solution": true,
     "task": false
    }
   },
   "outputs": [],
   "source": [
    "net = Net()\n",
    "net = net.cuda()\n",
    "optimizer = torch.optim.Adam(net.parameters(), lr=5e-3)\n",
    "criterion = torch.nn.CrossEntropyLoss()"
   ]
  },
  {
   "cell_type": "markdown",
   "metadata": {},
   "source": [
    "#### d. training\n",
    "The same as before, for training, \n",
    "1. calculate the loss wrt the ground-truth \n",
    "2. backdrop the loss to optimize the network.\n",
    "3. compute accuracy at the end of **each epoch**\n",
    "\n",
    "Plot the loss for each epoch which is defined as the average of all sample's loss within one epoch  \n",
    "\n",
    "Hint:use below snippet to put data on GPU\n",
    "\n",
    ">```python\n",
    ">inputs = inputs.cuda()\n",
    ">labels = labels.cuda()\n",
    ">```"
   ]
  },
  {
   "cell_type": "code",
   "execution_count": 27,
   "metadata": {
    "deletable": false,
    "nbgrader": {
     "cell_type": "code",
     "checksum": "1d948aabf031d2ea317106a34f9a4240",
     "grade": true,
     "grade_id": "cell-a324bf9cee55ad4c",
     "locked": false,
     "points": 10,
     "schema_version": 3,
     "solution": true,
     "task": false
    },
    "tags": []
   },
   "outputs": [
    {
     "name": "stdout",
     "output_type": "stream",
     "text": [
      "Epoch 0: train loss: 2.3747899532318115\n",
      "Epoch 1: train loss: 2.3264102935791016\n",
      "Epoch 2: train loss: 2.245676040649414\n",
      "Epoch 3: train loss: 2.012387275695801\n",
      "Epoch 4: train loss: 1.7811003923416138\n",
      "Epoch 5: train loss: 1.568324327468872\n",
      "Epoch 6: train loss: 1.3871946334838867\n",
      "Epoch 7: train loss: 1.4175713062286377\n",
      "Epoch 8: train loss: 1.4170256853103638\n",
      "Epoch 9: train loss: 1.3168458938598633\n"
     ]
    }
   ],
   "source": [
    "inputs = images.cuda()\n",
    "labels = labels.cuda()\n",
    "for epoch in range(10):  # loop over the dataset multiple times\n",
    "    optimizer.zero_grad() \n",
    "    # Forward pass\n",
    "    y_pred = net(inputs)\n",
    "    # Compute loss\n",
    "    loss = criterion(y_pred, labels)\n",
    "    # Print loss in each iteration\n",
    "    print('Epoch {}: train loss: {}'.format(epoch, loss.item()))\n",
    "    # Backward pass\n",
    "    loss.backward()\n",
    "    optimizer.step()"
   ]
  }
 ],
 "metadata": {
  "kernelspec": {
   "display_name": "Python 3",
   "language": "python",
   "name": "python3"
  },
  "language_info": {
   "codemirror_mode": {
    "name": "ipython",
    "version": 3
   },
   "file_extension": ".py",
   "mimetype": "text/x-python",
   "name": "python",
   "nbconvert_exporter": "python",
   "pygments_lexer": "ipython3",
   "version": "3.8.3"
  }
 },
 "nbformat": 4,
 "nbformat_minor": 2
}
