{
 "cells": [
  {
   "cell_type": "markdown",
   "metadata": {},
   "source": [
    "<img src=\"https://www.rochester.edu/assets/images/ur-logo.svg\">\n",
    "\n",
    "# <center>[CSC 249/449: Machine Vision](https://www.cs.rochester.edu/~cxu22/t/249F20/)</center>\n",
    "\n",
    "## Homework Submission\n",
    "After completed the homework notebook. \n",
    "- Make sure you fill in any place that says `YOUR CODE HERE` or `YOUR ANSWER HERE`, as well as your NetID below.\n",
    "- `Kernel`$\\rightarrow$ `Restart & Run All` (in the menubar).\n",
    "- You can generated zip file using following command:\n",
    "    ```python\n",
    "    NetID=''\n",
    "    make_submission(NetID)\n",
    "    ```\n",
    "- Double-check **generated zip file**, text, math, code, outputs, figures. Re-run if needed.\n",
    "- Sumbit the zip file via blackboard.\n",
    "- 1% deduction of late assignment total score per hour passing the deadline.\n",
    "---------\n"
   ]
  },
  {
   "cell_type": "markdown",
   "metadata": {},
   "source": [
    "## Part 3. RNN\n",
    "----\n",
    "### Problem 2.1 Sequence modeling with LSTM\n",
    "\n",
    "In this Problem, we will try to do time series forecasting with our LSTM cell for on coronavirus cases.\n"
   ]
  },
  {
   "cell_type": "code",
   "execution_count": 1,
   "metadata": {},
   "outputs": [
    {
     "data": {
      "text/plain": [
       "[<matplotlib.lines.Line2D at 0x132cc07f0>]"
      ]
     },
     "execution_count": 1,
     "metadata": {},
     "output_type": "execute_result"
    },
    {
     "data": {
      "image/png": "[encoded data removed]",
      "text/plain": [
       "<Figure size 432x288 with 1 Axes>"
      ]
     },
     "metadata": {
      "needs_background": "light"
     },
     "output_type": "display_data"
    }
   ],
   "source": [
    "from cs249 import *\n",
    "df = pd.read_csv('time_series_covid19_confirmed_US.csv')\n",
    "data=[int(v) for k,v in df.iloc[:, 11:].sum().to_dict().items()]\n",
    "plt.plot(range(len(data)),data)"
   ]
  },
  {
   "cell_type": "markdown",
   "metadata": {},
   "source": [
    "#### a. perpare dataset\n",
    "\n",
    "In order to capture the local sequence pattern, we will slice data as sequences `[i,i+seq_length]` and the next data as predicted data. In other word, we are using a short period to predict one step further."
   ]
  },
  {
   "cell_type": "code",
   "execution_count": 2,
   "metadata": {
    "deletable": false,
    "nbgrader": {
     "cell_type": "code",
     "checksum": "bdd7af5f6db70ce89fe5a5c0e1c8c2d2",
     "grade": true,
     "grade_id": "cell-2af832602c2dc90f",
     "locked": false,
     "points": 5,
     "schema_version": 3,
     "solution": true,
     "task": false
    }
   },
   "outputs": [],
   "source": [
    "# slice data with seq_length and y \n",
    "def get_sequences(data, seq_length):\n",
    "    list = []\n",
    "    pred = []\n",
    "    i = 0\n",
    "    while i < len(data)-seq_length:\n",
    "        list.append(data[i:i+seq_length])\n",
    "        if i+seq_length < len(data):\n",
    "            pred.append(data[i+seq_length])\n",
    "        i = i + 1\n",
    "    return np.asarray(list), np.asarray(pred)"
   ]
  },
  {
   "cell_type": "code",
   "execution_count": 3,
   "metadata": {
    "tags": []
   },
   "outputs": [],
   "source": [
    "seq_length = 4\n",
    "x,y=[d.unsqueeze(-1).float() for d in list(map(torch.from_numpy, get_sequences(data, seq_length)))]\n",
    "x/=x.max()\n",
    "y/=y.max()\n",
    "assert(x.shape[0]+seq_length==len(data)), \"checkout dimension\" "
   ]
  },
  {
   "cell_type": "markdown",
   "metadata": {},
   "source": [
    "#### b. implement LSTM cell\n",
    "In this part, you will implement your LSTM unit based on the following formulations:\n",
    "$$        \n",
    "\\begin{array}{ll} \\\\\n",
    "    i_t = \\sigma(W_{ii} x_t + b_{ii} + W_{hi} h_{t-1} + b_{hi}) \\\\\n",
    "    f_t = \\sigma(W_{if} x_t + b_{if} + W_{hf} h_{t-1} + b_{hf}) \\\\ \n",
    "    g_t = \\tanh(W_{ig} x_t + b_{ig} + W_{hg} h_{t-1} + b_{hg}) \\\\\n",
    "    o_t = \\sigma(W_{io} x_t + b_{io} + W_{ho} h_{t-1} + b_{ho}) \\\\\n",
    "    c_t = f_t \\odot c_{t-1} + i_t \\odot g_t \\\\\n",
    "    h_t = o_t \\odot \\tanh(c_t) \\\\\n",
    "\\end{array}\n",
    "$$"
   ]
  },
  {
   "cell_type": "code",
   "execution_count": 4,
   "metadata": {
    "deletable": false,
    "nbgrader": {
     "cell_type": "code",
     "checksum": "9d3580cc1fce22967f5e13cf039d9466",
     "grade": true,
     "grade_id": "cell-ae9b3eb4cd512450",
     "locked": false,
     "points": 15,
     "schema_version": 3,
     "solution": true,
     "task": false
    }
   },
   "outputs": [],
   "source": [
    "import math\n",
    "import torch\n",
    "import torch.nn as nn\n",
    "class LSTMCell(nn.Module):\n",
    "    \"\"\"\n",
    "    LSTM cell implementation\n",
    "    Given an input x at time step t, and hidden and cell states: hidden = (h_(t-1), c_(t-1)),\n",
    "    you will implement a LSTM unit to compute and return (h_t, c_t)\n",
    "    hints: consider use linear layers to implement the several matrices W_* \n",
    "    Note: you just need to implement a one-layer LSTM unit\n",
    "    \"\"\"\n",
    "    # f_t: forget gate layer, i_t: input gate layer, g_t: input modulation gate layer, o_t & h_t: output gate, \n",
    "    # update cell state: c_t\n",
    "    def __init__(self, input_size, hidden_size):\n",
    "        super(LSTMCell, self).__init__()\n",
    "        self.input_size = input_size\n",
    "        self.hidden_size = hidden_size\n",
    "\n",
    "        # forget gate components\n",
    "        self.linear_forget_w1 = nn.Linear(self.input_size, self.hidden_size, bias=True)\n",
    "        self.linear_forget_r1 = nn.Linear(self.hidden_size, self.hidden_size, bias=False)\n",
    "        self.sigmoid_forget = nn.Sigmoid()\n",
    "\n",
    "        # input gate components\n",
    "        self.linear_gate_w2 = nn.Linear(self.input_size, self.hidden_size, bias=True)\n",
    "        self.linear_gate_r2 = nn.Linear(self.hidden_size, self.hidden_size, bias=False)\n",
    "        self.sigmoid_gate = nn.Sigmoid()\n",
    "\n",
    "        # cell memory components\n",
    "        self.linear_gate_w3 = nn.Linear(self.input_size, self.hidden_size, bias=True)\n",
    "        self.linear_gate_r3 = nn.Linear(self.hidden_size, self.hidden_size, bias=False)\n",
    "        self.activation_gate = nn.Tanh()\n",
    "\n",
    "        # out gate components\n",
    "        self.linear_gate_w4 = nn.Linear(self.input_size, self.hidden_size, bias=True)\n",
    "        self.linear_gate_r4 = nn.Linear(self.hidden_size, self.hidden_size, bias=False)\n",
    "        self.sigmoid_hidden_out = nn.Sigmoid()\n",
    "\n",
    "        self.activation_final = nn.Tanh()\n",
    "\n",
    "    def forget(self, x, h):\n",
    "        x = self.linear_forget_w1(x)\n",
    "        h = self.linear_forget_r1(h)\n",
    "        return self.sigmoid_forget(x + h)\n",
    "\n",
    "    def input_gate(self, x, h):\n",
    "\n",
    "        # Equation 1. input gate\n",
    "        x_temp = self.linear_gate_w2(x)\n",
    "        h_temp = self.linear_gate_r2(h)\n",
    "        i = self.sigmoid_gate(x_temp + h_temp)\n",
    "        return i\n",
    "\n",
    "    def cell_memory_gate(self, i, f, x, h, c_prev):\n",
    "        x = self.linear_gate_w3(x)\n",
    "        h = self.linear_gate_r3(h)\n",
    "\n",
    "        # new information part that will be injected in the new context\n",
    "        k = self.activation_gate(x + h)\n",
    "        g = k * i\n",
    "\n",
    "        # forget old context/cell info\n",
    "        c = f * c_prev\n",
    "        # learn new context/cell info\n",
    "        c_next = g + c\n",
    "        return c_next\n",
    "\n",
    "    def out_gate(self, x, h):\n",
    "        x = self.linear_gate_w4(x)\n",
    "        h = self.linear_gate_r4(h)\n",
    "        return self.sigmoid_hidden_out(x + h)\n",
    "\n",
    "    def forward(self, x, tuple_in):\n",
    "        (h, c_prev) = tuple_in\n",
    "        # input gate\n",
    "        i = self.input_gate(x, h)\n",
    "\n",
    "        # forget gate\n",
    "        f = self.forget(x, h)\n",
    "\n",
    "        # updating the cell memory\n",
    "        c_next = self.cell_memory_gate(i, f, x, h,c_prev)\n",
    "\n",
    "        # calculate the main output gate\n",
    "        o = self.out_gate(x, h)\n",
    "\n",
    "        # produce next hidden output\n",
    "        h_next = o * self.activation_final(c_next)\n",
    "\n",
    "        return h_next, c_next"
   ]
  },
  {
   "cell_type": "code",
   "execution_count": 5,
   "metadata": {
    "deletable": false,
    "nbgrader": {
     "cell_type": "code",
     "checksum": "837d9d03ba58996da8f0170a512d68eb",
     "grade": true,
     "grade_id": "cell-d1381ef21883d4ff",
     "locked": false,
     "points": 15,
     "schema_version": 3,
     "solution": true,
     "task": false
    }
   },
   "outputs": [],
   "source": [
    "import math\n",
    "import torch\n",
    "import torch.nn as nn\n",
    "\n",
    "class LSTM(nn.Module):\n",
    "    \"\"\"\n",
    "    LSTM cell implementation\n",
    "    LSTM is used to handle sequence and LSTMCell is responsible for computing one time step forward\n",
    "    \"\"\"\n",
    "    def __init__(self, input_size, hidden_size, seq_len):\n",
    "        super(LSTM, self).__init__()\n",
    "        \n",
    "        # The input size\n",
    "        self.input_size = input_size\n",
    "        \n",
    "        # Dimension of weight vectors\n",
    "        self.hidden_dim = hidden_size\n",
    "        \n",
    "        # Number of time steps\n",
    "        self.sequence_len = seq_len\n",
    "        \n",
    "        # Initialize LSTM Cell\n",
    "        self.lstm_cell = LSTMCell(self.input_size, self.hidden_dim)\n",
    "        \n",
    "            \n",
    "    def forward(self, x, tuple_in):\n",
    "        # Creation of cell state and hidden state\n",
    "        (hidden_state, cell_state) = tuple_in\n",
    "\n",
    "        # Weights initialization\n",
    "        torch.nn.init.xavier_normal_(hidden_state)\n",
    "        torch.nn.init.xavier_normal_(cell_state)\n",
    "\n",
    "        hidden_state, cell_state = self.lstm_cell(x, (hidden_state, cell_state))\n",
    "    \n",
    "        return hidden_state"
   ]
  },
  {
   "cell_type": "markdown",
   "metadata": {},
   "source": [
    "#### b.  define network\n",
    "- We will define our `predictor` as one LSTM followed with one-layer MLP.\n",
    "- `predictor` will contain init hidden states for LSTM.\n",
    "- You will have to implement a `reset_hidden_state` function to reset the hidden states at the begining at each epoch.\n",
    "- Test your implementation by replacing the nn.LSTM from Pytorch with the nn.LSTM."
   ]
  },
  {
   "cell_type": "code",
   "execution_count": 6,
   "metadata": {
    "deletable": false,
    "nbgrader": {
     "cell_type": "code",
     "checksum": "66dae50e55773384c73f005ab7afcf0b",
     "grade": true,
     "grade_id": "cell-1400d60e48543c20",
     "locked": false,
     "points": 10,
     "schema_version": 3,
     "solution": true,
     "task": false
    }
   },
   "outputs": [],
   "source": [
    "class COVIDPredictor(nn.Module):\n",
    "    def __init__(self, n_features, n_hidden, seq_len):\n",
    "        super(COVIDPredictor, self).__init__()\n",
    "        #self.LSTM = nn.LSTM(n_features, 1, seq_len)\n",
    "        self.LSTM = LSTM(n_features, 1, seq_len)\n",
    "        self.lin1 = nn.Linear(1, n_hidden)\n",
    "        self.lin2 = nn.Linear(n_hidden, 1)\n",
    "        self.num_layers = n_features\n",
    "        self.batch_size = seq_len\n",
    "        self.hidden_dim = n_hidden\n",
    "        \n",
    "    def init_hidden(self):\n",
    "        h0 = torch.randn(250, 4, 1)\n",
    "        c0 = torch.randn(250, 4, 1)\n",
    "        return h0,c0\n",
    "    \n",
    "    def forward(self, x): \n",
    "        (h0, c0) = self.init_hidden()\n",
    "        out = self.LSTM(x,(h0, c0))\n",
    "        out = torch.nn.functional.leaky_relu(self.lin1(out))\n",
    "        out = self.lin2(out)\n",
    "        return out"
   ]
  },
  {
   "cell_type": "markdown",
   "metadata": {},
   "source": [
    "#### b.  Training\n",
    "\n",
    "We don't have test data to verify the performance, however you need to plot the traning loss to see whether it can converage or not. \n",
    "You are free to change the parameter for `n_hidder` ,optimiser parameter and epoch number to have a better loss curver."
   ]
  },
  {
   "cell_type": "code",
   "execution_count": 7,
   "metadata": {
    "deletable": false,
    "nbgrader": {
     "cell_type": "code",
     "checksum": "3919b69447fd88c5d015c869a5f012b4",
     "grade": true,
     "grade_id": "cell-43468dff37f3ebeb",
     "locked": false,
     "points": 5,
     "schema_version": 3,
     "solution": true,
     "task": false
    }
   },
   "outputs": [
    {
     "name": "stdout",
     "output_type": "stream",
     "text": [
      "Epoch 0: train loss: 32.12430191040039\n",
      "Epoch 1: train loss: 26.719192504882812\n",
      "Epoch 2: train loss: 27.890047073364258\n",
      "Epoch 3: train loss: 29.03240203857422\n",
      "Epoch 4: train loss: 27.949506759643555\n",
      "Epoch 5: train loss: 26.43635368347168\n",
      "Epoch 6: train loss: 25.638465881347656\n",
      "Epoch 7: train loss: 25.91195297241211\n",
      "Epoch 8: train loss: 26.347803115844727\n",
      "Epoch 9: train loss: 26.203737258911133\n",
      "Epoch 10: train loss: 25.52824592590332\n",
      "Epoch 11: train loss: 24.669422149658203\n",
      "Epoch 12: train loss: 24.306617736816406\n",
      "Epoch 13: train loss: 24.183090209960938\n",
      "Epoch 14: train loss: 24.438783645629883\n",
      "Epoch 15: train loss: 24.22360610961914\n",
      "Epoch 16: train loss: 23.809432983398438\n",
      "Epoch 17: train loss: 23.09742546081543\n",
      "Epoch 18: train loss: 22.899707794189453\n",
      "Epoch 19: train loss: 22.924985885620117\n",
      "Epoch 20: train loss: 22.578594207763672\n",
      "Epoch 21: train loss: 22.671125411987305\n",
      "Epoch 22: train loss: 21.959182739257812\n",
      "Epoch 23: train loss: 21.547178268432617\n",
      "Epoch 24: train loss: 21.22895050048828\n",
      "Epoch 25: train loss: 20.588150024414062\n",
      "Epoch 26: train loss: 20.848224639892578\n",
      "Epoch 27: train loss: 20.386627197265625\n",
      "Epoch 28: train loss: 20.0146484375\n",
      "Epoch 29: train loss: 19.591148376464844\n",
      "Epoch 30: train loss: 19.610258102416992\n",
      "Epoch 31: train loss: 19.689128875732422\n",
      "Epoch 32: train loss: 19.25952911376953\n",
      "Epoch 33: train loss: 18.20888900756836\n",
      "Epoch 34: train loss: 18.315044403076172\n",
      "Epoch 35: train loss: 17.997730255126953\n",
      "Epoch 36: train loss: 17.44386863708496\n",
      "Epoch 37: train loss: 17.06145477294922\n",
      "Epoch 38: train loss: 16.61015510559082\n",
      "Epoch 39: train loss: 16.210302352905273\n",
      "Epoch 40: train loss: 15.997783660888672\n",
      "Epoch 41: train loss: 16.030685424804688\n",
      "Epoch 42: train loss: 15.45711898803711\n",
      "Epoch 43: train loss: 15.244647979736328\n",
      "Epoch 44: train loss: 15.22605037689209\n",
      "Epoch 45: train loss: 14.898098945617676\n",
      "Epoch 46: train loss: 13.981021881103516\n",
      "Epoch 47: train loss: 14.34943962097168\n",
      "Epoch 48: train loss: 14.046036720275879\n",
      "Epoch 49: train loss: 14.185315132141113\n",
      "Epoch 50: train loss: 12.815412521362305\n",
      "Epoch 51: train loss: 12.73334789276123\n",
      "Epoch 52: train loss: 13.142659187316895\n",
      "Epoch 53: train loss: 11.451583862304688\n",
      "Epoch 54: train loss: 12.110158920288086\n",
      "Epoch 55: train loss: 11.537912368774414\n",
      "Epoch 56: train loss: 11.448226928710938\n",
      "Epoch 57: train loss: 11.482969284057617\n",
      "Epoch 58: train loss: 10.354752540588379\n",
      "Epoch 59: train loss: 10.313030242919922\n"
     ]
    }
   ],
   "source": [
    "model = COVIDPredictor(n_features=1,n_hidden=500,seq_len=seq_length)\n",
    "loss_fn = torch.nn.MSELoss(reduction='sum')\n",
    "optimiser = torch.optim.Adam(model.parameters(), lr=1e-3)\n",
    "num_epochs = 60\n",
    "for t in range(num_epochs):  \n",
    "    model.zero_grad()\n",
    "    optimiser.zero_grad()\n",
    "    y_pred = model(x)\n",
    "    loss = loss_fn(y_pred[:,3,:], y)\n",
    "    print('Epoch {}: train loss: {}'.format(t, loss.item()))\n",
    "    loss.backward()\n",
    "    optimiser.step()"
   ]
  }
 ],
 "metadata": {
  "kernelspec": {
   "display_name": "Python 3",
   "language": "python",
   "name": "python3"
  },
  "language_info": {
   "codemirror_mode": {
    "name": "ipython",
    "version": 3
   },
   "file_extension": ".py",
   "mimetype": "text/x-python",
   "name": "python",
   "nbconvert_exporter": "python",
   "pygments_lexer": "ipython3",
   "version": "3.8.3"
  }
 },
 "nbformat": 4,
 "nbformat_minor": 2
}
