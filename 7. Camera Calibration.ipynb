{
 "cells": [
  {
   "cell_type": "markdown",
   "metadata": {},
   "source": [
    "<img src=\"https://www.rochester.edu/assets/images/ur-logo.svg\">\n",
    "\n",
    "# <center>[CSC 249/449: Machine Vision](https://www.cs.rochester.edu/~cxu22/t/249F20/)</center>\n",
    "\n",
    "## Homework Submission\n",
    "After completed the homework notebook. \n",
    "- Make sure you fill in any place that says `YOUR CODE HERE` or `YOUR ANSWER HERE`, as well as your NetID below.\n",
    "- `Kernel`$\\rightarrow$ `Restart & Run All` (in the menubar).\n",
    "- You can generated zip file using following command:\n",
    "    ```python\n",
    "    NetID=''\n",
    "    make_submission(NetID)\n",
    "    ```\n",
    "- Double-check **generated zip file**, text, math, code, outputs, figures. Re-run if needed.\n",
    "- Sumbit the zip file via blackboard.\n",
    "- 1% deduction of late assignment total score per hour passing the deadline.\n",
    "---------\n"
   ]
  },
  {
   "cell_type": "markdown",
   "metadata": {},
   "source": [
    "Recall at the lecture, we had a transformation that project a point $(x,y,z,1)$ in the global coordinates to pixel position$(u,v,1)$.\n",
    "Now, assume we have a malfunction carmera which has 11 unknown parameters,\n",
    "$$\n",
    " \\mathcal{T}=\\left(\\begin{array}{cc} \n",
    "a_{00} & a_{01} & a_{02} & a_{03}\\\\\n",
    "a_{10} & a_{11} & a_{12} & a_{13}\\\\\n",
    "a_{20} & a_{21} & a_{22} & 1\n",
    "\\end{array}\\right)\n",
    "$$\n",
    "To estimate these parameters, we use some objects and checkerboard with known size and we take a photograph of the them.\n",
    "In this way, we can obtain a set of know points $\\{(x_i,y_i,z_i,1)\\}^N_{i=1}$ from objects and some projected points $\\{(u_i,v_i)\\}^N_{i=1}$ from photo.\n",
    "Our goal is to find the relation between these two set of points.\n",
    "\n",
    "We use linear regrssion with L2 weight penalty to do the fitting.\n",
    "Now we have \n",
    "\n",
    "- Data: $X=\\{(x_i,y_i,z_i,1)\\}^N_{i=1}$ ,$Y=\\{(u_i,v_i,1)\\}^N_{i=1}$ \n",
    "- Model: $Y = \\mathcal{T}X$, where $ \\mathcal{T}$ is the transformation matrix shown above.\n",
    "\n",
    "Problem: For each element $a_{mn}\\in\\mathcal{T}$, derive analytical solution for minimizing following objective function:\n",
    "$$\n",
    "||Y - \\mathcal{T}X||_2 + \\alpha||\\mathcal{T}||_2,\n",
    "$$\n",
    "\n",
    "\n",
    "\n",
    "1. Typing out the solution with $\\LaTeX$ math will have *Bonus point*.\n",
    "> - [a list of Markdown syntax elements](https://www.markdownguide.org/cheat-sheet/)\n",
    "> - [a list of LaTeX commands for mathematics](https://en.wikibooks.org/wiki/LaTeX/Mathematics)\n",
    "2. If you cannot do so, write on paper, take a picture and insert the image to the below cell(Jupyter will *Not* printout the image to cell, so do remember keep the image within the working directory and submit them together.)\n",
    "2. Express solution with matrix contains $a_{mn}\\in\\mathcal{T}$ other than sepreat 11 equations.\n"
   ]
  },
  {
   "cell_type": "markdown",
   "metadata": {
    "deletable": false,
    "nbgrader": {
     "cell_type": "markdown",
     "checksum": "3fc5325d34a9d2be533553cebfd664de",
     "grade": true,
     "grade_id": "cell-34a6599dcdbbce49",
     "locked": false,
     "points": 40,
     "schema_version": 3,
     "solution": true,
     "task": false
    }
   },
   "source": [
    "YOUR ANSWER HERE"
   ]
  },
  {
   "cell_type": "markdown",
   "metadata": {},
   "source": [
    "The model we select is the simple linear regression with l2 penalty. The formula used for prediction is: \n",
    "$$Y = \\mathcal{T}X$$\n",
    "$\\mathcal{T}$ is a 3 by 4 matrix, whose last entry is 1. We try to minimize the following loss function:\n",
    "$$f(\\tau) = \\sum_{i=0}^{N} \\|\\mathcal{T}X_i - Y_i\\|^2 + \\lambda\\|\\mathcal{T}\\|^2_F$$\n",
    "When $\\lambda\\rightarrow0$, this is just a simple least square problem. When $\\lambda\\rightarrow\\infty$, entries in matrix $\\tau$ would approach 0. A closed form solution to minimize loss function can be acquired by setting the first derivative of $f(\\mathcal{T})$ to be zero. The solution for $\\tau$ is:\n",
    "$$\\mathcal{T} = \\|X \\cdot X^\\top + \\lambda I\\|^{-1} X \\cdot Y^\\top$$\n",
    "We scale matrix $\\mathcal{T}$ by dividing every entry by the last entry in $\\mathcal{T}$."
   ]
  }
 ],
 "metadata": {
  "kernelspec": {
   "display_name": "Python 3",
   "language": "python",
   "name": "python3"
  },
  "language_info": {
   "codemirror_mode": {
    "name": "ipython",
    "version": 3
   },
   "file_extension": ".py",
   "mimetype": "text/x-python",
   "name": "python",
   "nbconvert_exporter": "python",
   "pygments_lexer": "ipython3",
   "version": "3.8.5"
  }
 },
 "nbformat": 4,
 "nbformat_minor": 2
}
